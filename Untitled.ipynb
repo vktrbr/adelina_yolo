{
 "cells": [
  {
   "cell_type": "code",
   "execution_count": null,
   "id": "bd5e9b9d",
   "metadata": {},
   "outputs": [],
   "source": [
    "import torch"
   ]
  },
  {
   "cell_type": "code",
   "execution_count": null,
   "id": "818fcdd9",
   "metadata": {},
   "outputs": [],
   "source": [
    "model = torch.hub.load('ultalytics/yolov5', 'custom', path = '.adelina_yolo/yolov5/runs/train/exp14/weights/best/pt')"
   ]
  }
 ],
 "metadata": {
  "kernelspec": {
   "display_name": "Python 3 (ipykernel)",
   "language": "python",
   "name": "python3"
  },
  "language_info": {
   "codemirror_mode": {
    "name": "ipython",
    "version": 3
   },
   "file_extension": ".py",
   "mimetype": "text/x-python",
   "name": "python",
   "nbconvert_exporter": "python",
   "pygments_lexer": "ipython3",
   "version": "3.10.8"
  }
 },
 "nbformat": 4,
 "nbformat_minor": 5
}
